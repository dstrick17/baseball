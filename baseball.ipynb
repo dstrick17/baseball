{
  "cells": [
    {
      "cell_type": "code",
      "source": [
        "pip install pybaseball"
      ],
      "metadata": {
        "colab": {
          "base_uri": "https://localhost:8080/"
        },
        "id": "0AZL-zACDblV",
        "outputId": "9901c238-3995-481e-bbce-6954ec52ff7c"
      },
      "execution_count": 2,
      "outputs": [
        {
          "output_type": "stream",
          "name": "stdout",
          "text": [
            "Collecting pybaseball\n",
            "  Downloading pybaseball-2.2.7-py3-none-any.whl.metadata (11 kB)\n",
            "Requirement already satisfied: numpy>=1.13.0 in /usr/local/lib/python3.11/dist-packages (from pybaseball) (2.0.2)\n",
            "Requirement already satisfied: pandas>=1.0.3 in /usr/local/lib/python3.11/dist-packages (from pybaseball) (2.2.2)\n",
            "Requirement already satisfied: beautifulsoup4>=4.4.0 in /usr/local/lib/python3.11/dist-packages (from pybaseball) (4.13.4)\n",
            "Requirement already satisfied: requests>=2.18.1 in /usr/local/lib/python3.11/dist-packages (from pybaseball) (2.32.3)\n",
            "Requirement already satisfied: lxml>=4.2.1 in /usr/local/lib/python3.11/dist-packages (from pybaseball) (5.4.0)\n",
            "Requirement already satisfied: pyarrow>=1.0.1 in /usr/local/lib/python3.11/dist-packages (from pybaseball) (18.1.0)\n",
            "Collecting pygithub>=1.51 (from pybaseball)\n",
            "  Downloading PyGithub-2.6.1-py3-none-any.whl.metadata (3.9 kB)\n",
            "Requirement already satisfied: scipy>=1.4.0 in /usr/local/lib/python3.11/dist-packages (from pybaseball) (1.15.3)\n",
            "Requirement already satisfied: matplotlib>=2.0.0 in /usr/local/lib/python3.11/dist-packages (from pybaseball) (3.10.0)\n",
            "Requirement already satisfied: tqdm>=4.50.0 in /usr/local/lib/python3.11/dist-packages (from pybaseball) (4.67.1)\n",
            "Requirement already satisfied: attrs>=20.3.0 in /usr/local/lib/python3.11/dist-packages (from pybaseball) (25.3.0)\n",
            "Requirement already satisfied: soupsieve>1.2 in /usr/local/lib/python3.11/dist-packages (from beautifulsoup4>=4.4.0->pybaseball) (2.7)\n",
            "Requirement already satisfied: typing-extensions>=4.0.0 in /usr/local/lib/python3.11/dist-packages (from beautifulsoup4>=4.4.0->pybaseball) (4.14.0)\n",
            "Requirement already satisfied: contourpy>=1.0.1 in /usr/local/lib/python3.11/dist-packages (from matplotlib>=2.0.0->pybaseball) (1.3.2)\n",
            "Requirement already satisfied: cycler>=0.10 in /usr/local/lib/python3.11/dist-packages (from matplotlib>=2.0.0->pybaseball) (0.12.1)\n",
            "Requirement already satisfied: fonttools>=4.22.0 in /usr/local/lib/python3.11/dist-packages (from matplotlib>=2.0.0->pybaseball) (4.58.4)\n",
            "Requirement already satisfied: kiwisolver>=1.3.1 in /usr/local/lib/python3.11/dist-packages (from matplotlib>=2.0.0->pybaseball) (1.4.8)\n",
            "Requirement already satisfied: packaging>=20.0 in /usr/local/lib/python3.11/dist-packages (from matplotlib>=2.0.0->pybaseball) (24.2)\n",
            "Requirement already satisfied: pillow>=8 in /usr/local/lib/python3.11/dist-packages (from matplotlib>=2.0.0->pybaseball) (11.2.1)\n",
            "Requirement already satisfied: pyparsing>=2.3.1 in /usr/local/lib/python3.11/dist-packages (from matplotlib>=2.0.0->pybaseball) (3.2.3)\n",
            "Requirement already satisfied: python-dateutil>=2.7 in /usr/local/lib/python3.11/dist-packages (from matplotlib>=2.0.0->pybaseball) (2.9.0.post0)\n",
            "Requirement already satisfied: pytz>=2020.1 in /usr/local/lib/python3.11/dist-packages (from pandas>=1.0.3->pybaseball) (2025.2)\n",
            "Requirement already satisfied: tzdata>=2022.7 in /usr/local/lib/python3.11/dist-packages (from pandas>=1.0.3->pybaseball) (2025.2)\n",
            "Collecting pynacl>=1.4.0 (from pygithub>=1.51->pybaseball)\n",
            "  Downloading PyNaCl-1.5.0-cp36-abi3-manylinux_2_17_x86_64.manylinux2014_x86_64.manylinux_2_24_x86_64.whl.metadata (8.6 kB)\n",
            "Requirement already satisfied: pyjwt>=2.4.0 in /usr/local/lib/python3.11/dist-packages (from pyjwt[crypto]>=2.4.0->pygithub>=1.51->pybaseball) (2.10.1)\n",
            "Requirement already satisfied: urllib3>=1.26.0 in /usr/local/lib/python3.11/dist-packages (from pygithub>=1.51->pybaseball) (2.4.0)\n",
            "Collecting Deprecated (from pygithub>=1.51->pybaseball)\n",
            "  Downloading Deprecated-1.2.18-py2.py3-none-any.whl.metadata (5.7 kB)\n",
            "Requirement already satisfied: charset-normalizer<4,>=2 in /usr/local/lib/python3.11/dist-packages (from requests>=2.18.1->pybaseball) (3.4.2)\n",
            "Requirement already satisfied: idna<4,>=2.5 in /usr/local/lib/python3.11/dist-packages (from requests>=2.18.1->pybaseball) (3.10)\n",
            "Requirement already satisfied: certifi>=2017.4.17 in /usr/local/lib/python3.11/dist-packages (from requests>=2.18.1->pybaseball) (2025.6.15)\n",
            "Requirement already satisfied: cryptography>=3.4.0 in /usr/local/lib/python3.11/dist-packages (from pyjwt[crypto]>=2.4.0->pygithub>=1.51->pybaseball) (43.0.3)\n",
            "Requirement already satisfied: cffi>=1.4.1 in /usr/local/lib/python3.11/dist-packages (from pynacl>=1.4.0->pygithub>=1.51->pybaseball) (1.17.1)\n",
            "Requirement already satisfied: six>=1.5 in /usr/local/lib/python3.11/dist-packages (from python-dateutil>=2.7->matplotlib>=2.0.0->pybaseball) (1.17.0)\n",
            "Requirement already satisfied: wrapt<2,>=1.10 in /usr/local/lib/python3.11/dist-packages (from Deprecated->pygithub>=1.51->pybaseball) (1.17.2)\n",
            "Requirement already satisfied: pycparser in /usr/local/lib/python3.11/dist-packages (from cffi>=1.4.1->pynacl>=1.4.0->pygithub>=1.51->pybaseball) (2.22)\n",
            "Downloading pybaseball-2.2.7-py3-none-any.whl (426 kB)\n",
            "\u001b[2K   \u001b[90m━━━━━━━━━━━━━━━━━━━━━━━━━━━━━━━━━━━━━━━━\u001b[0m \u001b[32m426.1/426.1 kB\u001b[0m \u001b[31m8.0 MB/s\u001b[0m eta \u001b[36m0:00:00\u001b[0m\n",
            "\u001b[?25hDownloading PyGithub-2.6.1-py3-none-any.whl (410 kB)\n",
            "\u001b[2K   \u001b[90m━━━━━━━━━━━━━━━━━━━━━━━━━━━━━━━━━━━━━━━━\u001b[0m \u001b[32m410.5/410.5 kB\u001b[0m \u001b[31m25.8 MB/s\u001b[0m eta \u001b[36m0:00:00\u001b[0m\n",
            "\u001b[?25hDownloading PyNaCl-1.5.0-cp36-abi3-manylinux_2_17_x86_64.manylinux2014_x86_64.manylinux_2_24_x86_64.whl (856 kB)\n",
            "\u001b[2K   \u001b[90m━━━━━━━━━━━━━━━━━━━━━━━━━━━━━━━━━━━━━━━━\u001b[0m \u001b[32m856.7/856.7 kB\u001b[0m \u001b[31m37.2 MB/s\u001b[0m eta \u001b[36m0:00:00\u001b[0m\n",
            "\u001b[?25hDownloading Deprecated-1.2.18-py2.py3-none-any.whl (10.0 kB)\n",
            "Installing collected packages: Deprecated, pynacl, pygithub, pybaseball\n",
            "Successfully installed Deprecated-1.2.18 pybaseball-2.2.7 pygithub-2.6.1 pynacl-1.5.0\n"
          ]
        }
      ]
    },
    {
      "cell_type": "code",
      "execution_count": 8,
      "metadata": {
        "colab": {
          "base_uri": "https://localhost:8080/",
          "height": 327
        },
        "id": "s9G9r75EC1dd",
        "outputId": "1c3e6469-fa57-4372-927b-0b4ee25efd4b"
      },
      "outputs": [
        {
          "output_type": "stream",
          "name": "stdout",
          "text": [
            "Fetching 2023 batting stats...\n",
            "Error fetching data: list index out of range\n",
            "Please ensure you have an internet connection and pybaseball can reach its sources.\n",
            "\n",
            "--- Basic Data Structure ---\n",
            "Head of the DataFrame:\n"
          ]
        },
        {
          "output_type": "error",
          "ename": "NameError",
          "evalue": "name 'data' is not defined",
          "traceback": [
            "\u001b[0;31m---------------------------------------------------------------------------\u001b[0m",
            "\u001b[0;31mNameError\u001b[0m                                 Traceback (most recent call last)",
            "\u001b[0;32m/tmp/ipython-input-8-690363761.py\u001b[0m in \u001b[0;36m<cell line: 0>\u001b[0;34m()\u001b[0m\n\u001b[1;32m     26\u001b[0m \u001b[0;31m# This gives you a quick visual inspection of the data and column names.\u001b[0m\u001b[0;34m\u001b[0m\u001b[0;34m\u001b[0m\u001b[0m\n\u001b[1;32m     27\u001b[0m \u001b[0mprint\u001b[0m\u001b[0;34m(\u001b[0m\u001b[0;34m\"Head of the DataFrame:\"\u001b[0m\u001b[0;34m)\u001b[0m\u001b[0;34m\u001b[0m\u001b[0;34m\u001b[0m\u001b[0m\n\u001b[0;32m---> 28\u001b[0;31m \u001b[0mprint\u001b[0m\u001b[0;34m(\u001b[0m\u001b[0mdata\u001b[0m\u001b[0;34m.\u001b[0m\u001b[0mhead\u001b[0m\u001b[0;34m(\u001b[0m\u001b[0;34m)\u001b[0m\u001b[0;34m)\u001b[0m\u001b[0;34m\u001b[0m\u001b[0;34m\u001b[0m\u001b[0m\n\u001b[0m\u001b[1;32m     29\u001b[0m \u001b[0;34m\u001b[0m\u001b[0m\n\u001b[1;32m     30\u001b[0m \u001b[0;31m# 2. Display the last few rows of the DataFrame\u001b[0m\u001b[0;34m\u001b[0m\u001b[0;34m\u001b[0m\u001b[0m\n",
            "\u001b[0;31mNameError\u001b[0m: name 'data' is not defined"
          ]
        }
      ],
      "source": [
        "# Baseball.ipynb\n",
        "import pybaseball\n",
        "from pybaseball import statcast\n",
        "from pybaseball import statcast_batter\n",
        "from pybaseball import playerid_lookup\n",
        "from pybaseball import batting_stats_range # Import this function\n",
        "import pandas as pd\n",
        "\n",
        "# --- Data Loading (Example) ---\n",
        "# Let's get batting stats for a recent season, e.g., 2023.\n",
        "# This will return a DataFrame.\n",
        "print(\"Fetching 2023 batting stats...\")\n",
        "try:\n",
        "    data = batting_stats_range('2023-03-30', '2023-10-30') # Fixed date format to YYYY-MM-DD\n",
        "    print(\"Data fetched successfully!\")\n",
        "except Exception as e:\n",
        "    print(f\"Error fetching data: {e}\")\n",
        "    print(\"Please ensure you have an internet connection and pybaseball can reach its sources.\")\n",
        "\n",
        "\n",
        "# --- Exploratory Data Analysis (EDA) Code ---\n",
        "\n",
        "print(\"\\n--- Basic Data Structure ---\")\n",
        "\n",
        "# 1. Display the first few rows of the DataFrame\n",
        "# This gives you a quick visual inspection of the data and column names.\n",
        "print(\"Head of the DataFrame:\")\n",
        "print(data.head())\n",
        "\n",
        "# 2. Display the last few rows of the DataFrame\n",
        "# Useful for seeing if there's any odd data at the end.\n",
        "print(\"\\nTail of the DataFrame:\")\n",
        "print(data.tail())\n",
        "\n",
        "# 3. Get a concise summary of the DataFrame\n",
        "# This shows column names, non-null counts, and data types.\n",
        "# It's crucial for identifying missing values and correct data types.\n",
        "print(\"\\nDataFrame Info:\")\n",
        "data.info()\n",
        "\n",
        "# 4. Get the shape of the DataFrame (number of rows, number of columns)\n",
        "print(f\"\\nShape of the DataFrame (rows, columns): {data.shape}\")\n",
        "print(f\"Number of rows: {data.shape[0]}\")\n",
        "print(f\"Number of columns: {data.shape[1]}\")\n",
        "\n",
        "# 5. Get descriptive statistics for numerical columns\n",
        "# This provides count, mean, std, min, max, and quartiles for numerical data.\n",
        "print(\"\\nDescriptive Statistics for Numerical Columns:\")\n",
        "print(data.describe())\n",
        "\n",
        "# 6. Get descriptive statistics for all columns (including categorical)\n",
        "# The 'include='all'' parameter is useful here to see unique values and frequencies for categorical columns.\n",
        "print(\"\\nDescriptive Statistics for All Columns (including categorical):\")\n",
        "print(data.describe(include='all'))\n",
        "\n",
        "# 7. Check for missing values (NaN) in each column\n",
        "# This is critical for data cleaning later.\n",
        "print(\"\\nMissing Values per Column:\")\n",
        "print(data.isnull().sum())\n",
        "\n",
        "# 8. Check for duplicate rows\n",
        "print(f\"\\nNumber of duplicate rows: {data.duplicated().sum()}\")\n",
        "\n",
        "# 9. Get unique values and their counts for a few selected categorical columns\n",
        "# (You'll need to identify some categorical columns from data.info() or data.head())\n",
        "# Example: Let's assume 'Team' is a categorical column.\n",
        "if 'Team' in data.columns:\n",
        "    print(\"\\nUnique values and counts for 'Team' column:\")\n",
        "    print(data['Team'].value_counts())\n",
        "\n",
        "# If you have other categorical columns (e.g., 'Pos' for position), you can do:\n",
        "# if 'Pos' in data.columns:\n",
        "#     print(\"\\nUnique values and counts for 'Pos' column:\")\n",
        "#     print(data['Pos'].value_counts())\n",
        "\n",
        "# 10. Check the data types of each column\n",
        "# (Already covered somewhat by .info(), but good to see explicitly)\n",
        "print(\"\\nData Types of all columns:\")\n",
        "print(data.dtypes)"
      ]
    },
    {
      "cell_type": "markdown",
      "metadata": {
        "id": "BhqCeLbXC1de"
      },
      "source": [
        "### Get Data for Every Pitch"
      ]
    },
    {
      "cell_type": "code",
      "execution_count": 4,
      "metadata": {
        "colab": {
          "base_uri": "https://localhost:8080/"
        },
        "id": "lgT500q1C1de",
        "outputId": "87fc24ad-ee3f-4518-a997-6d31d9758243"
      },
      "outputs": [
        {
          "output_type": "stream",
          "name": "stdout",
          "text": [
            "This is a large query, it may take a moment to complete\n"
          ]
        },
        {
          "output_type": "stream",
          "name": "stderr",
          "text": [
            "\r  0%|          | 0/3 [00:00<?, ?it/s]/usr/local/lib/python3.11/dist-packages/pybaseball/datahelpers/postprocessing.py:59: FutureWarning: errors='ignore' is deprecated and will raise in a future version. Use to_datetime without passing `errors` and catch exceptions explicitly instead\n",
            "  data_copy[column] = data_copy[column].apply(pd.to_datetime, errors='ignore', format=date_format)\n",
            " 33%|███▎      | 1/3 [00:07<00:14,  7.25s/it]/usr/local/lib/python3.11/dist-packages/pybaseball/datahelpers/postprocessing.py:59: FutureWarning: errors='ignore' is deprecated and will raise in a future version. Use to_datetime without passing `errors` and catch exceptions explicitly instead\n",
            "  data_copy[column] = data_copy[column].apply(pd.to_datetime, errors='ignore', format=date_format)\n",
            " 67%|██████▋   | 2/3 [00:07<00:03,  3.36s/it]/usr/local/lib/python3.11/dist-packages/pybaseball/datahelpers/postprocessing.py:59: FutureWarning: errors='ignore' is deprecated and will raise in a future version. Use to_datetime without passing `errors` and catch exceptions explicitly instead\n",
            "  data_copy[column] = data_copy[column].apply(pd.to_datetime, errors='ignore', format=date_format)\n",
            "100%|██████████| 3/3 [00:09<00:00,  3.31s/it]\n"
          ]
        },
        {
          "output_type": "stream",
          "name": "stdout",
          "text": [
            "     pitch_type  game_date  release_speed  release_pos_x  release_pos_z  \\\n",
            "3259         SI 2019-03-30           98.1           3.12           5.13   \n",
            "3327         SI 2019-03-30           97.1           3.25            5.0   \n",
            "3438         SI 2019-03-30           97.5           3.27           5.17   \n",
            "3597         SI 2019-03-30           96.9           3.28           5.25   \n",
            "3672         SI 2019-03-30           96.6           3.18           5.13   \n",
            "\n",
            "      player_name  batter  pitcher     events      description  spin_dir  \\\n",
            "3259  Hader, Josh  622168   623352  strikeout  swinging_strike      <NA>   \n",
            "3327  Hader, Josh  622168   623352        NaN  swinging_strike      <NA>   \n",
            "3438  Hader, Josh  622168   623352        NaN    called_strike      <NA>   \n",
            "3597  Hader, Josh  451594   623352  strikeout  swinging_strike      <NA>   \n",
            "3672  Hader, Josh  451594   623352        NaN  swinging_strike      <NA>   \n",
            "\n",
            "      spin_rate_deprecated  break_angle_deprecated  break_length_deprecated  \\\n",
            "3259                  <NA>                    <NA>                     <NA>   \n",
            "3327                  <NA>                    <NA>                     <NA>   \n",
            "3438                  <NA>                    <NA>                     <NA>   \n",
            "3597                  <NA>                    <NA>                     <NA>   \n",
            "3672                  <NA>                    <NA>                     <NA>   \n",
            "\n",
            "      zone                                  des game_type stand p_throws  \\\n",
            "3259    12    Yairo Munoz strikes out swinging.         R     R        L   \n",
            "3327     3    Yairo Munoz strikes out swinging.         R     R        L   \n",
            "3438     4    Yairo Munoz strikes out swinging.         R     R        L   \n",
            "3597     2  Dexter Fowler strikes out swinging.         R     R        L   \n",
            "3672     2  Dexter Fowler strikes out swinging.         R     R        L   \n",
            "\n",
            "     home_team away_team type  hit_location bb_type  balls  strikes  \\\n",
            "3259       MIL       STL    S             2     NaN      0        2   \n",
            "3327       MIL       STL    S          <NA>     NaN      0        1   \n",
            "3438       MIL       STL    S          <NA>     NaN      0        0   \n",
            "3597       MIL       STL    S             2     NaN      0        2   \n",
            "3672       MIL       STL    S          <NA>     NaN      0        1   \n",
            "\n",
            "      game_year  pfx_x  pfx_z  plate_x  plate_z  on_3b  on_2b  on_1b  \\\n",
            "3259       2019   0.68   1.59     0.14     3.95   <NA>   <NA>   <NA>   \n",
            "3327       2019   0.72    1.5     0.81     3.01   <NA>   <NA>   <NA>   \n",
            "3438       2019   0.72   1.54    -0.78     2.49   <NA>   <NA>   <NA>   \n",
            "3597       2019   0.81   1.47     0.22     2.83   <NA>   <NA>   <NA>   \n",
            "3672       2019   0.76   1.62     0.22     3.67   <NA>   <NA>   <NA>   \n",
            "\n",
            "      outs_when_up  inning inning_topbot  hc_x  hc_y  tfs_deprecated  \\\n",
            "3259             2       9           Top  <NA>  <NA>            <NA>   \n",
            "3327             2       9           Top  <NA>  <NA>            <NA>   \n",
            "3438             2       9           Top  <NA>  <NA>            <NA>   \n",
            "3597             1       9           Top  <NA>  <NA>            <NA>   \n",
            "3672             1       9           Top  <NA>  <NA>            <NA>   \n",
            "\n",
            "      tfs_zulu_deprecated  umpire  sv_id        vx0         vy0       vz0  \\\n",
            "3259                 <NA>    <NA>   <NA>  -9.746435 -142.689606 -1.462107   \n",
            "3327                 <NA>    <NA>   <NA>  -8.309104 -141.245266 -3.315767   \n",
            "3438                 <NA>    <NA>   <NA> -12.694818 -141.479398 -5.333361   \n",
            "3597                 <NA>    <NA>   <NA> -10.136478 -140.906449 -4.351365   \n",
            "3672                 <NA>    <NA>   <NA>  -9.779858 -140.506392 -2.092828   \n",
            "\n",
            "             ax         ay         az  sz_top  sz_bot  hit_distance_sc  \\\n",
            "3259  11.701313  33.770875   -9.94661    3.41    1.56             <NA>   \n",
            "3327  11.750642  32.285773 -11.105104    3.41    1.56             <NA>   \n",
            "3438    12.7216  31.988248  -9.975083     3.4    1.59             <NA>   \n",
            "3597  13.209031  31.503469  -11.47234    3.29    1.49             <NA>   \n",
            "3672  12.505571    32.9652 -10.065816    3.58    1.68             <NA>   \n",
            "\n",
            "      launch_speed  launch_angle  effective_speed  release_spin_rate  \\\n",
            "3259          <NA>          <NA>             99.1               2290   \n",
            "3327          <NA>          <NA>             98.1               2181   \n",
            "3438          <NA>          <NA>             98.5               2202   \n",
            "3597          <NA>          <NA>             97.7               2295   \n",
            "3672          <NA>          <NA>             97.5               2343   \n",
            "\n",
            "      release_extension  game_pk  fielder_2  fielder_3  fielder_4  fielder_5  \\\n",
            "3259                6.9   567554     518735     519346     519058     543768   \n",
            "3327                6.9   567554     518735     519346     519058     543768   \n",
            "3438                7.0   567554     518735     519346     519058     543768   \n",
            "3597                6.7   567554     518735     519346     519058     543768   \n",
            "3672                6.9   567554     518735     519346     519058     543768   \n",
            "\n",
            "      fielder_6  fielder_7  fielder_8  fielder_9  release_pos_y  \\\n",
            "3259     606115     592325     456715     592885          53.57   \n",
            "3327     606115     592325     456715     592885           53.6   \n",
            "3438     606115     592325     456715     592885          53.52   \n",
            "3597     606115     592325     456715     592885          53.77   \n",
            "3672     606115     592325     456715     592885          53.58   \n",
            "\n",
            "      estimated_ba_using_speedangle  estimated_woba_using_speedangle  \\\n",
            "3259                           <NA>                              0.0   \n",
            "3327                           <NA>                             <NA>   \n",
            "3438                           <NA>                             <NA>   \n",
            "3597                           <NA>                              0.0   \n",
            "3672                           <NA>                             <NA>   \n",
            "\n",
            "      woba_value  woba_denom  babip_value  iso_value  launch_speed_angle  \\\n",
            "3259         0.0           1            0          0                <NA>   \n",
            "3327        <NA>        <NA>         <NA>       <NA>                <NA>   \n",
            "3438        <NA>        <NA>         <NA>       <NA>                <NA>   \n",
            "3597         0.0           1            0          0                <NA>   \n",
            "3672        <NA>        <NA>         <NA>       <NA>                <NA>   \n",
            "\n",
            "      at_bat_number  pitch_number pitch_name  home_score  away_score  \\\n",
            "3259             73             3     Sinker           4           2   \n",
            "3327             73             2     Sinker           4           2   \n",
            "3438             73             1     Sinker           4           2   \n",
            "3597             72             3     Sinker           4           2   \n",
            "3672             72             2     Sinker           4           2   \n",
            "\n",
            "      bat_score  fld_score  post_away_score  post_home_score  post_bat_score  \\\n",
            "3259          2          4                2                4               2   \n",
            "3327          2          4                2                4               2   \n",
            "3438          2          4                2                4               2   \n",
            "3597          2          4                2                4               2   \n",
            "3672          2          4                2                4               2   \n",
            "\n",
            "      post_fld_score if_fielding_alignment of_fielding_alignment  spin_axis  \\\n",
            "3259               4              Standard              Standard        157   \n",
            "3327               4              Standard              Standard        154   \n",
            "3438               4              Standard              Standard        155   \n",
            "3597               4              Standard              Standard        151   \n",
            "3672               4              Standard              Standard        155   \n",
            "\n",
            "      delta_home_win_exp  delta_run_exp  bat_speed  swing_length  \\\n",
            "3259               0.011         -0.182       <NA>          <NA>   \n",
            "3327                 0.0         -0.068       <NA>          <NA>   \n",
            "3438                 0.0         -0.048       <NA>          <NA>   \n",
            "3597               0.023         -0.169       <NA>          <NA>   \n",
            "3672                 0.0         -0.065       <NA>          <NA>   \n",
            "\n",
            "      estimated_slg_using_speedangle  delta_pitcher_run_exp  hyper_speed  \\\n",
            "3259                            <NA>                  0.182         <NA>   \n",
            "3327                            <NA>                  0.068         <NA>   \n",
            "3438                            <NA>                  0.048         <NA>   \n",
            "3597                            <NA>                  0.169         <NA>   \n",
            "3672                            <NA>                  0.065         <NA>   \n",
            "\n",
            "      home_score_diff  bat_score_diff  home_win_exp  bat_win_exp  \\\n",
            "3259                2              -2         0.989        0.011   \n",
            "3327                2              -2         0.989        0.011   \n",
            "3438                2              -2         0.989        0.011   \n",
            "3597                2              -2         0.966        0.034   \n",
            "3672                2              -2         0.966        0.034   \n",
            "\n",
            "      age_pit_legacy  age_bat_legacy  age_pit  age_bat  n_thruorder_pitcher  \\\n",
            "3259              25              24       25       24                    1   \n",
            "3327              25              24       25       24                    1   \n",
            "3438              25              24       25       24                    1   \n",
            "3597              25              33       25       33                    1   \n",
            "3672              25              33       25       33                    1   \n",
            "\n",
            "      n_priorpa_thisgame_player_at_bat  pitcher_days_since_prev_game  \\\n",
            "3259                                 0                             2   \n",
            "3327                                 0                             2   \n",
            "3438                                 0                             2   \n",
            "3597                                 3                             2   \n",
            "3672                                 3                             2   \n",
            "\n",
            "      batter_days_since_prev_game  pitcher_days_until_next_game  \\\n",
            "3259                         <NA>                             2   \n",
            "3327                         <NA>                             2   \n",
            "3438                         <NA>                             2   \n",
            "3597                            1                             2   \n",
            "3672                            1                             2   \n",
            "\n",
            "      batter_days_until_next_game  api_break_z_with_gravity  api_break_x_arm  \\\n",
            "3259                            2                      0.74             0.68   \n",
            "3327                            2                      0.87             0.72   \n",
            "3438                            2                      0.81             0.72   \n",
            "3597                            1                      0.92             0.81   \n",
            "3672                            1                      0.78             0.76   \n",
            "\n",
            "      api_break_x_batter_in  arm_angle  attack_angle  attack_direction  \\\n",
            "3259                  -0.68       <NA>          <NA>              <NA>   \n",
            "3327                  -0.72       <NA>          <NA>              <NA>   \n",
            "3438                  -0.72       <NA>          <NA>              <NA>   \n",
            "3597                  -0.81       <NA>          <NA>              <NA>   \n",
            "3672                  -0.76       <NA>          <NA>              <NA>   \n",
            "\n",
            "      swing_path_tilt  intercept_ball_minus_batter_pos_x_inches  \\\n",
            "3259             <NA>                                      <NA>   \n",
            "3327             <NA>                                      <NA>   \n",
            "3438             <NA>                                      <NA>   \n",
            "3597             <NA>                                      <NA>   \n",
            "3672             <NA>                                      <NA>   \n",
            "\n",
            "      intercept_ball_minus_batter_pos_y_inches  \n",
            "3259                                      <NA>  \n",
            "3327                                      <NA>  \n",
            "3438                                      <NA>  \n",
            "3597                                      <NA>  \n",
            "3672                                      <NA>  \n"
          ]
        }
      ],
      "source": [
        "pitch_data = statcast(start_dt='2019-03-28', end_dt='2019-03-30')\n",
        "df = pd.DataFrame(pitch_data)\n",
        "pd.set_option('display.max_columns', None)\n",
        "pd.set_option('display.width', None)\n",
        "\n",
        "print(pitch_data.head())"
      ]
    },
    {
      "cell_type": "markdown",
      "metadata": {
        "id": "GyJnwFneC1df"
      },
      "source": [
        "### Get Data for every at bat"
      ]
    },
    {
      "cell_type": "markdown",
      "metadata": {
        "id": "Fl2ET6e5C1df"
      },
      "source": [
        "from pybaseball import statcast_batter"
      ]
    },
    {
      "cell_type": "code",
      "execution_count": 5,
      "metadata": {
        "colab": {
          "base_uri": "https://localhost:8080/",
          "height": 388
        },
        "id": "TPVZ7L7kC1df",
        "outputId": "5b23ba49-8a52-4420-e285-b49ec15d233c"
      },
      "outputs": [
        {
          "output_type": "stream",
          "name": "stdout",
          "text": [
            "Gathering Player Data\n"
          ]
        },
        {
          "output_type": "error",
          "ename": "KeyError",
          "evalue": "'at_bat_id'",
          "traceback": [
            "\u001b[0;31m---------------------------------------------------------------------------\u001b[0m",
            "\u001b[0;31mKeyError\u001b[0m                                  Traceback (most recent call last)",
            "\u001b[0;32m/tmp/ipython-input-5-3494774180.py\u001b[0m in \u001b[0;36m<cell line: 0>\u001b[0;34m()\u001b[0m\n\u001b[1;32m      6\u001b[0m \u001b[0;34m\u001b[0m\u001b[0m\n\u001b[1;32m      7\u001b[0m \u001b[0;31m# Aggregate to at-bats\u001b[0m\u001b[0;34m\u001b[0m\u001b[0;34m\u001b[0m\u001b[0m\n\u001b[0;32m----> 8\u001b[0;31m at_bat_data = batter_data.groupby('at_bat_id').agg({\n\u001b[0m\u001b[1;32m      9\u001b[0m     \u001b[0;34m'pitch_type'\u001b[0m\u001b[0;34m:\u001b[0m \u001b[0;34m'first'\u001b[0m\u001b[0;34m,\u001b[0m  \u001b[0;31m# Example: take the first pitch type\u001b[0m\u001b[0;34m\u001b[0m\u001b[0;34m\u001b[0m\u001b[0m\n\u001b[1;32m     10\u001b[0m     \u001b[0;34m'launch_speed'\u001b[0m\u001b[0;34m:\u001b[0m \u001b[0;34m'mean'\u001b[0m\u001b[0;34m,\u001b[0m  \u001b[0;31m# Average launch speed for the at-bat\u001b[0m\u001b[0;34m\u001b[0m\u001b[0;34m\u001b[0m\u001b[0m\n",
            "\u001b[0;32m/usr/local/lib/python3.11/dist-packages/pandas/core/frame.py\u001b[0m in \u001b[0;36mgroupby\u001b[0;34m(self, by, axis, level, as_index, sort, group_keys, observed, dropna)\u001b[0m\n\u001b[1;32m   9181\u001b[0m             \u001b[0;32mraise\u001b[0m \u001b[0mTypeError\u001b[0m\u001b[0;34m(\u001b[0m\u001b[0;34m\"You have to supply one of 'by' and 'level'\"\u001b[0m\u001b[0;34m)\u001b[0m\u001b[0;34m\u001b[0m\u001b[0;34m\u001b[0m\u001b[0m\n\u001b[1;32m   9182\u001b[0m \u001b[0;34m\u001b[0m\u001b[0m\n\u001b[0;32m-> 9183\u001b[0;31m         return DataFrameGroupBy(\n\u001b[0m\u001b[1;32m   9184\u001b[0m             \u001b[0mobj\u001b[0m\u001b[0;34m=\u001b[0m\u001b[0mself\u001b[0m\u001b[0;34m,\u001b[0m\u001b[0;34m\u001b[0m\u001b[0;34m\u001b[0m\u001b[0m\n\u001b[1;32m   9185\u001b[0m             \u001b[0mkeys\u001b[0m\u001b[0;34m=\u001b[0m\u001b[0mby\u001b[0m\u001b[0;34m,\u001b[0m\u001b[0;34m\u001b[0m\u001b[0;34m\u001b[0m\u001b[0m\n",
            "\u001b[0;32m/usr/local/lib/python3.11/dist-packages/pandas/core/groupby/groupby.py\u001b[0m in \u001b[0;36m__init__\u001b[0;34m(self, obj, keys, axis, level, grouper, exclusions, selection, as_index, sort, group_keys, observed, dropna)\u001b[0m\n\u001b[1;32m   1327\u001b[0m \u001b[0;34m\u001b[0m\u001b[0m\n\u001b[1;32m   1328\u001b[0m         \u001b[0;32mif\u001b[0m \u001b[0mgrouper\u001b[0m \u001b[0;32mis\u001b[0m \u001b[0;32mNone\u001b[0m\u001b[0;34m:\u001b[0m\u001b[0;34m\u001b[0m\u001b[0;34m\u001b[0m\u001b[0m\n\u001b[0;32m-> 1329\u001b[0;31m             grouper, exclusions, obj = get_grouper(\n\u001b[0m\u001b[1;32m   1330\u001b[0m                 \u001b[0mobj\u001b[0m\u001b[0;34m,\u001b[0m\u001b[0;34m\u001b[0m\u001b[0;34m\u001b[0m\u001b[0m\n\u001b[1;32m   1331\u001b[0m                 \u001b[0mkeys\u001b[0m\u001b[0;34m,\u001b[0m\u001b[0;34m\u001b[0m\u001b[0;34m\u001b[0m\u001b[0m\n",
            "\u001b[0;32m/usr/local/lib/python3.11/dist-packages/pandas/core/groupby/grouper.py\u001b[0m in \u001b[0;36mget_grouper\u001b[0;34m(obj, key, axis, level, sort, observed, validate, dropna)\u001b[0m\n\u001b[1;32m   1041\u001b[0m                 \u001b[0min_axis\u001b[0m\u001b[0;34m,\u001b[0m \u001b[0mlevel\u001b[0m\u001b[0;34m,\u001b[0m \u001b[0mgpr\u001b[0m \u001b[0;34m=\u001b[0m \u001b[0;32mFalse\u001b[0m\u001b[0;34m,\u001b[0m \u001b[0mgpr\u001b[0m\u001b[0;34m,\u001b[0m \u001b[0;32mNone\u001b[0m\u001b[0;34m\u001b[0m\u001b[0;34m\u001b[0m\u001b[0m\n\u001b[1;32m   1042\u001b[0m             \u001b[0;32melse\u001b[0m\u001b[0;34m:\u001b[0m\u001b[0;34m\u001b[0m\u001b[0;34m\u001b[0m\u001b[0m\n\u001b[0;32m-> 1043\u001b[0;31m                 \u001b[0;32mraise\u001b[0m \u001b[0mKeyError\u001b[0m\u001b[0;34m(\u001b[0m\u001b[0mgpr\u001b[0m\u001b[0;34m)\u001b[0m\u001b[0;34m\u001b[0m\u001b[0;34m\u001b[0m\u001b[0m\n\u001b[0m\u001b[1;32m   1044\u001b[0m         \u001b[0;32melif\u001b[0m \u001b[0misinstance\u001b[0m\u001b[0;34m(\u001b[0m\u001b[0mgpr\u001b[0m\u001b[0;34m,\u001b[0m \u001b[0mGrouper\u001b[0m\u001b[0;34m)\u001b[0m \u001b[0;32mand\u001b[0m \u001b[0mgpr\u001b[0m\u001b[0;34m.\u001b[0m\u001b[0mkey\u001b[0m \u001b[0;32mis\u001b[0m \u001b[0;32mnot\u001b[0m \u001b[0;32mNone\u001b[0m\u001b[0;34m:\u001b[0m\u001b[0;34m\u001b[0m\u001b[0;34m\u001b[0m\u001b[0m\n\u001b[1;32m   1045\u001b[0m             \u001b[0;31m# Add key to exclusions\u001b[0m\u001b[0;34m\u001b[0m\u001b[0;34m\u001b[0m\u001b[0m\n",
            "\u001b[0;31mKeyError\u001b[0m: 'at_bat_id'"
          ]
        }
      ],
      "source": [
        "import pandas as pd\n",
        "from pybaseball import statcast_batter\n",
        "\n",
        "# Get pitch data for a specific player\n",
        "batter_data = statcast_batter(start_dt='2019-03-28', end_dt='2019-03-30', player_id=624413)\n",
        "\n",
        "# Aggregate to at-bats\n",
        "at_bat_data = batter_data.groupby(['game_pk', 'batter', 'at_bat_number']).agg({\n",
        "    'pitch_type': 'first',  # Example: take the first pitch type\n",
        "    'launch_speed': 'mean',  # Average launch speed for the at-bat\n",
        "    'launch_angle': 'mean',  # Average launch angle for the at-bat\n",
        "    'events': 'first'  # Use 'events' for outcome, and take the first event in the at-bat\n",
        "}).reset_index()\n",
        "\n",
        "print(at_bat_data.head())"
      ]
    },
    {
      "cell_type": "code",
      "source": [],
      "metadata": {
        "id": "IWJHbq_xDu0p"
      },
      "execution_count": null,
      "outputs": []
    }
  ],
  "metadata": {
    "kernelspec": {
      "display_name": ".venv",
      "language": "python",
      "name": "python3"
    },
    "language_info": {
      "codemirror_mode": {
        "name": "ipython",
        "version": 3
      },
      "file_extension": ".py",
      "mimetype": "text/x-python",
      "name": "python",
      "nbconvert_exporter": "python",
      "pygments_lexer": "ipython3",
      "version": "3.12.9"
    },
    "colab": {
      "provenance": []
    }
  },
  "nbformat": 4,
  "nbformat_minor": 0
}